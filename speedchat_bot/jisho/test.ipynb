{
 "cells": [
  {
   "cell_type": "code",
   "execution_count": 1,
   "metadata": {},
   "outputs": [],
   "source": [
    "import requests\n",
    "import json\n",
    "from itertools import zip_longest\n",
    "\n",
    "from bs4 import BeautifulSoup\n",
    "\n",
    "import jisho"
   ]
  },
  {
   "cell_type": "code",
   "execution_count": 2,
   "metadata": {
    "collapsed": true
   },
   "outputs": [],
   "source": [
    "j = jisho.Jisho()"
   ]
  },
  {
   "cell_type": "code",
   "execution_count": 3,
   "metadata": {
    "scrolled": true
   },
   "outputs": [
    {
     "name": "stdout",
     "output_type": "stream",
     "text": [
      "くさ\n",
      "====\n",
      "そう\n",
      "====\n",
      "くさばな\n",
      "====\n",
      "わた\n",
      "====\n",
      "くさち\n",
      "====\n",
      "くたびれる\n",
      "====\n",
      "ぞうり\n",
      "====\n",
      "そうあん\n",
      "====\n",
      "くさき\n",
      "====\n",
      "くさのね\n",
      "====\n",
      "くさわけ\n",
      "====\n",
      "くさとり\n",
      "====\n",
      "くさむしり\n",
      "====\n",
      "そうこう\n",
      "====\n",
      "そうしょくどうぶつ\n",
      "====\n",
      "そうほん\n",
      "====\n",
      "そうげん\n",
      "====\n",
      "くたびれもうけ\n",
      "====\n",
      "くさかり\n",
      "====\n",
      "そうしょく\n",
      "====\n"
     ]
    }
   ],
   "source": [
    "results = j.search(\"草\")"
   ]
  },
  {
   "cell_type": "markdown",
   "metadata": {},
   "source": [
    "# Checklist:\n",
    "\n",
    "- search correctly grabs the vocabulary, furigana, meanings, Halpern, tags, and difficulty tags\n",
    "- given the deep keyword, the search will dig through all of the results\n",
    "- div.meanings-wrapper contains all of the definitions for a word. It looks like we don't want any of the \"meanings-wrapper\" class divs that follow \"meaning-tags\" classes that are undesirable"
   ]
  },
  {
   "cell_type": "markdown",
   "metadata": {},
   "source": [
    "# Current Problems:\n",
    "\n",
    "- if a word contains hiragana or katakana in it, it is not included in the \"furigana\" field\n",
    "- some KeyError with kana_to_halpern?\n"
   ]
  },
  {
   "cell_type": "code",
   "execution_count": 4,
   "metadata": {},
   "outputs": [
    {
     "data": {
      "text/plain": [
       "[{'difficulty_tags': ['JLPT N4', 'Wanikani level 5'],\n",
       "  'furigana': 'くさ',\n",
       "  'meanings': {1: 'grass; weed; herb; thatch',\n",
       "   2: 'ninja',\n",
       "   3: 'not genuine; substandard',\n",
       "   4: 'laughter; LOL'},\n",
       "  'n_meanings': 4,\n",
       "  'vocabulary': 'くさ'},\n",
       " {'difficulty_tags': [],\n",
       "  'furigana': 'そう',\n",
       "  'meanings': {1: 'draft; rough copy', 2: 'cursive script; \"grass\" kanji'},\n",
       "  'n_meanings': 2,\n",
       "  'vocabulary': 'そう'},\n",
       " {'difficulty_tags': [],\n",
       "  'furigana': 'くさばな',\n",
       "  'meanings': {1: 'flower; flowering plant',\n",
       "   2: 'Kusabana',\n",
       "   3: 'Ornamental plant'},\n",
       "  'n_meanings': 3,\n",
       "  'vocabulary': 'くさばな'},\n",
       " {'difficulty_tags': ['JLPT N3'],\n",
       "  'furigana': 'わた',\n",
       "  'meanings': {1: 'cotton plant (Gossypium spp.)',\n",
       "   2: 'batting; wadding; padding'},\n",
       "  'n_meanings': 2,\n",
       "  'vocabulary': 'わた'},\n",
       " {'difficulty_tags': ['Wanikani level 6'],\n",
       "  'furigana': 'くさち',\n",
       "  'meanings': {1: 'meadow; grassland', 2: 'Meadow'},\n",
       "  'n_meanings': 2,\n",
       "  'vocabulary': 'くさち'},\n",
       " {'difficulty_tags': ['JLPT N2'],\n",
       "  'furigana': 'くたび',\n",
       "  'meanings': {1: 'to get tired; to be exhausted',\n",
       "   2: 'to wear out; to be battered from long use'},\n",
       "  'n_meanings': 2,\n",
       "  'vocabulary': 'くたびれる'},\n",
       " {'difficulty_tags': ['JLPT N2'],\n",
       "  'furigana': 'ぞうり',\n",
       "  'meanings': {1: 'zori; Japanese sandals', 2: 'Zōri'},\n",
       "  'n_meanings': 2,\n",
       "  'vocabulary': 'ぞうり'},\n",
       " {'difficulty_tags': [],\n",
       "  'furigana': 'そうあん',\n",
       "  'meanings': {1: 'draft (for a speech, bill, etc.)'},\n",
       "  'n_meanings': 1,\n",
       "  'vocabulary': 'そうあん'},\n",
       " {'difficulty_tags': [],\n",
       "  'furigana': 'くさき',\n",
       "  'meanings': {1: 'plants; vegetation'},\n",
       "  'n_meanings': 1,\n",
       "  'vocabulary': 'くさき'},\n",
       " {'difficulty_tags': [],\n",
       "  'furigana': 'くさね',\n",
       "  'meanings': {1: 'grassroots; rank and file; the roots of grass'},\n",
       "  'n_meanings': 1,\n",
       "  'vocabulary': 'くさのね'},\n",
       " {'difficulty_tags': [],\n",
       "  'furigana': 'くさわ',\n",
       "  'meanings': {1: 'pathfinder; trailblazer; early settler',\n",
       "   2: 'pioneer; founder; originator; groundbreaker'},\n",
       "  'n_meanings': 2,\n",
       "  'vocabulary': 'くさわけ'},\n",
       " {'difficulty_tags': [],\n",
       "  'furigana': 'くさと',\n",
       "  'meanings': {1: 'weeding; weeder; weeding fork'},\n",
       "  'n_meanings': 1,\n",
       "  'vocabulary': 'くさとり'},\n",
       " {'difficulty_tags': [],\n",
       "  'furigana': 'くさむし',\n",
       "  'meanings': {1: 'weeding; weeder; weeding fork'},\n",
       "  'n_meanings': 1,\n",
       "  'vocabulary': 'くさむしり'},\n",
       " {'difficulty_tags': ['Wanikani level 53'],\n",
       "  'furigana': 'そうこう',\n",
       "  'meanings': {1: 'notes; draft; manuscript'},\n",
       "  'n_meanings': 1,\n",
       "  'vocabulary': 'そうこう'},\n",
       " {'difficulty_tags': [],\n",
       "  'furigana': 'そうしょくどうぶつ',\n",
       "  'meanings': {1: 'herbivore', 2: 'Herbivore'},\n",
       "  'n_meanings': 2,\n",
       "  'vocabulary': 'そうしょくどうぶつ'},\n",
       " {'difficulty_tags': [],\n",
       "  'furigana': 'そうほん',\n",
       "  'meanings': {1: 'herbaceous plant; herb', 2: 'Grass'},\n",
       "  'n_meanings': 2,\n",
       "  'vocabulary': 'そうほん'},\n",
       " {'difficulty_tags': [],\n",
       "  'furigana': 'そうげん',\n",
       "  'meanings': {1: 'grass-covered plain; grasslands; meadows; savannah; prairie; steppe',\n",
       "   2: 'Grassland'},\n",
       "  'n_meanings': 2,\n",
       "  'vocabulary': 'そうげん'},\n",
       " {'difficulty_tags': [],\n",
       "  'furigana': 'もう',\n",
       "  'meanings': {1: 'waste of effort; thankless task'},\n",
       "  'n_meanings': 1,\n",
       "  'vocabulary': 'くたびれもうけ'},\n",
       " {'difficulty_tags': ['Wanikani level 49'],\n",
       "  'furigana': 'くさか',\n",
       "  'meanings': {1: 'mowing; mower'},\n",
       "  'n_meanings': 1,\n",
       "  'vocabulary': 'くさかり'},\n",
       " {'difficulty_tags': [],\n",
       "  'furigana': 'そうしょく',\n",
       "  'meanings': {1: 'herbivorous; plant-eating; graminivorous'},\n",
       "  'n_meanings': 1,\n",
       "  'vocabulary': 'そうしょく'}]"
      ]
     },
     "execution_count": 4,
     "metadata": {},
     "output_type": "execute_result"
    }
   ],
   "source": [
    "results"
   ]
  },
  {
   "cell_type": "code",
   "execution_count": 5,
   "metadata": {},
   "outputs": [
    {
     "data": {
      "text/plain": [
       "20"
      ]
     },
     "execution_count": 5,
     "metadata": {},
     "output_type": "execute_result"
    }
   ],
   "source": [
    "len(results)"
   ]
  }
 ],
 "metadata": {
  "kernelspec": {
   "display_name": "Python 3",
   "language": "python",
   "name": "python3"
  },
  "language_info": {
   "codemirror_mode": {
    "name": "ipython",
    "version": 3
   },
   "file_extension": ".py",
   "mimetype": "text/x-python",
   "name": "python",
   "nbconvert_exporter": "python",
   "pygments_lexer": "ipython3",
   "version": "3.6.0"
  }
 },
 "nbformat": 4,
 "nbformat_minor": 2
}
